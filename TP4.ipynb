{
 "cells": [
  {
   "cell_type": "markdown",
   "id": "72fe05b4",
   "metadata": {},
   "source": [
    "# Exercice 1 : l'algorithme de Deutsch-Jozsa"
   ]
  },
  {
   "cell_type": "markdown",
   "id": "fd0bf991",
   "metadata": {},
   "source": [
    "## Exemple pour n Qubit"
   ]
  },
  {
   "cell_type": "code",
   "execution_count": 95,
   "id": "76073c04",
   "metadata": {
    "scrolled": true
   },
   "outputs": [
    {
     "data": {
      "image/png": "[encoded data removed]",
      "text/plain": [
       "<Figure size 628.397x385.28 with 1 Axes>"
      ]
     },
     "execution_count": 95,
     "metadata": {},
     "output_type": "execute_result"
    }
   ],
   "source": [
    "from qiskit import IBMQ, Aer, BasicAer, execute\n",
    "from qiskit.providers.ibmq import least_busy\n",
    "from qiskit import QuantumCircuit, assemble, transpile\n",
    "from qiskit.visualization import plot_histogram\n",
    "import numpy as np\n",
    "\n",
    "def dj_oracle(case, n):\n",
    "    # We need to make a QuantumCircuit object to return\n",
    "    # This circuit has n+1 qubits: the size of the input,\n",
    "    # plus one output qubit\n",
    "    oracle_qc = QuantumCircuit(n+1)\n",
    "    \n",
    "    # First, let's deal with the case in which oracle is balanced\n",
    "    if case == \"balanced\":\n",
    "        # First generate a random number that tells us which CNOTs to\n",
    "        # wrap in X-gates:\n",
    "        b = np.random.randint(1,2**n)\n",
    "        #print(bin(b))\n",
    "        # Next, format 'b' as a binary string of length 'n', padded with zeros:\n",
    "        b_str = format(b, '0'+str(n)+'b')\n",
    "        # Next, we place the first X-gates. Each digit in our binary string \n",
    "        # corresponds to a qubit, if the digit is 0, we do nothing, if it's 1\n",
    "        # we apply an X-gate to that qubit:\n",
    "        for qubit in range(len(b_str)):\n",
    "            if b_str[qubit] == '1':\n",
    "                oracle_qc.x(qubit)\n",
    "        # Do the controlled-NOT gates for each qubit, using the output qubit \n",
    "        # as the target:\n",
    "        for qubit in range(n):\n",
    "            oracle_qc.cx(qubit, n)\n",
    "        # Next, place the final X-gates\n",
    "        for qubit in range(len(b_str)):\n",
    "            if b_str[qubit] == '1':\n",
    "                oracle_qc.x(qubit)\n",
    "\n",
    "    # Case in which oracle is constant\n",
    "    if case == \"constant\":\n",
    "        # First decide what the fixed output of the oracle will be\n",
    "        # (either always 0 or always 1)\n",
    "        output = np.random.randint(2)\n",
    "        #print(output)\n",
    "        if output == 1:\n",
    "            oracle_qc.x(n)\n",
    "    \n",
    "    oracle_gate = oracle_qc.to_gate()\n",
    "    oracle_gate.name = \"Oracle\" # To show when we display the circuit\n",
    "    \n",
    "    return oracle_gate\n",
    "\n",
    "def dj_algorithm(oracle, n):\n",
    "    dj_circuit = QuantumCircuit(n+1, n)\n",
    "    # Set up the output qubit:\n",
    "    dj_circuit.x(n)\n",
    "    dj_circuit.h(n)\n",
    "    # And set up the input register:\n",
    "    for qubit in range(n):\n",
    "        dj_circuit.h(qubit)\n",
    "    # Let's append the oracle gate to our circuit:\n",
    "    dj_circuit.append(oracle, range(n+1))\n",
    "    # Finally, perform the H-gates again and measure:\n",
    "    for qubit in range(n):\n",
    "        dj_circuit.h(qubit)\n",
    "    \n",
    "    for i in range(n):\n",
    "        dj_circuit.measure(i, i)\n",
    "    \n",
    "    return dj_circuit\n",
    "\n",
    "n = 4\n",
    "oracle_gate = dj_oracle('balanced', n)\n",
    "dj_circuit = dj_algorithm(oracle_gate, n)\n",
    "dj_circuit.draw('mpl')"
   ]
  },
  {
   "cell_type": "markdown",
   "id": "bd166bc8",
   "metadata": {},
   "source": [
    "#### On affiche le résultat :"
   ]
  },
  {
   "cell_type": "code",
   "execution_count": 96,
   "id": "8d9f4d40",
   "metadata": {},
   "outputs": [
    {
     "name": "stdout",
     "output_type": "stream",
     "text": [
      "La fonction est équilibrée\n"
     ]
    }
   ],
   "source": [
    "backend = BasicAer.get_backend('qasm_simulator')\n",
    "job = execute(dj_circuit, backend)\n",
    "if '0000' in job.result().get_counts(): \n",
    "    print(\"La fonction est constante\")\n",
    "else:\n",
    "    print(\"La fonction est équilibrée\")"
   ]
  },
  {
   "cell_type": "markdown",
   "id": "45444e3e",
   "metadata": {},
   "source": [
    "## Rapport  \n",
    "Nous avons une fonction mathématique $f : {0,1}^𝑛 → {0,1}$. Cette fonction est une boite noire mais nous savons que cette elle est soit constante (la sortie est 0 ou 1 pour toutes les entrées) soit équilibrée (la sortie est 0 dans la moitié des cas, 1 dans les autres).  \n",
    "Le principe de cette implémentation est d'utiliser n Qubits à |0> et rajouter un dernier Qubit à |1>\n",
    "Il faut donc pouvoir créer cette fonction \"boite noire\" qu'on appellera Oracle. L'Oracle peut être soit équilibré soit constant. Il faut donc 2 conditions pour créer la fonction.  \n",
    "On a défini la fonction **dj_oracle()** qui prend en argument le cas de la fonction (équilibré/constant) et le nombre de Qubit. Nous allons donc traiter les deux cas:  \n",
    "- Equilibré : quand la fonction est équilibrée, il faut générer $\\frac{n}{2}$ valeur à 1 et $\\frac{n}{2}$ valeur à 0. Pour cela on créer un nombre entier aléatoire entre 1 et $2^n$ que l'on traduit ensuite en binaire. Ensuite, on applique une porte X pour les Qubit à |1> pour obtenir n états |0>. On applique après une porte CNOT au n Qubit vers le dernier Qubit. Pour finir, on replace des portes X aux Qubits qui en avait eu un au début.\n",
    "- Constant : quand la fonction est constante, il faut générer un nombre entier aléatoire entre 0 et 1, on donne ce nombre en sortie pour toutes les entrées.  \n",
    "\n",
    "Une  fois l'Oracle créer, nous pouvons l'implémenter sur le circuit.\n",
    "Le circuit commence avec n porte d'Hadamard, et un Qubit avec une porte X et une H pour transformer les n premiers états en |+> et le dernier en |->.\n",
    "On peut ensuite mesurer les n Qubit. Nous pouvons alors voir que l'on a 100% de chance d'avoir les n état à 1 si la fonction est balancée et 100% de chance d'avoir les n état à 0 si la fonction est constante."
   ]
  },
  {
   "cell_type": "markdown",
   "id": "f60aed46",
   "metadata": {},
   "source": [
    "# Exercice 2 : l'algorithme de Simon"
   ]
  }
 ],
 "metadata": {
  "kernelspec": {
   "display_name": "Python 3 (ipykernel)",
   "language": "python",
   "name": "python3"
  },
  "language_info": {
   "codemirror_mode": {
    "name": "ipython",
    "version": 3
   },
   "file_extension": ".py",
   "mimetype": "text/x-python",
   "name": "python",
   "nbconvert_exporter": "python",
   "pygments_lexer": "ipython3",
   "version": "3.9.7"
  }
 },
 "nbformat": 4,
 "nbformat_minor": 5
}
